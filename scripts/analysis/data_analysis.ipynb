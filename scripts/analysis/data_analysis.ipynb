{
 "cells": [
  {
   "cell_type": "code",
   "execution_count": null,
   "metadata": {
    "collapsed": true
   },
   "outputs": [],
   "source": [
    "import sys, os\n",
    "%matplotlib inline\n",
    "# Assuming caffe is installed in the home directory\n",
    "CAFFE_ROOT = os.path.join(os.path.expanduser('~'),'caffe')\n",
    "\n",
    "sys.path.append(os.path.join(CAFFE_ROOT,'/scripts/analysis'))\n",
    "from analysis_utils import *"
   ]
  },
  {
   "cell_type": "code",
   "execution_count": null,
   "metadata": {
    "collapsed": false
   },
   "outputs": [],
   "source": [
    "#%load $CAFFE_ROOT/scripts/analysis/analysis_utils.py\n",
    "%load $CAFFE_ROOT/scripts/analysis/analysis_utils.py"
   ]
  },
  {
   "cell_type": "code",
   "execution_count": null,
   "metadata": {
    "collapsed": false
   },
   "outputs": [],
   "source": [
    "# optimized results\n",
    "files_loc = CAFFE_ROOT+'/scripts/analysis/example_data/*/*.out'\n",
    "res_path= os.path.join(os.path.expanduser('~'),'Desktop/plots')\n",
    "try: os.makedirs(res_path)\n",
    "except: pass\n",
    "plot_all(files_loc, res_path=res_path, threshold=1.)"
   ]
  },
  {
   "cell_type": "code",
   "execution_count": null,
   "metadata": {
    "collapsed": false
   },
   "outputs": [],
   "source": [
    "#example of using comparative analysis going from 1 to 16 HSW threads\n",
    "files_loc = CAFFE_ROOT+'/scripts/analysis/example_data/thread_scaling_64batch_hsw/atlas_64batch_hsw_th1*.out'\n",
    "res_path= os.path.join(os.path.expanduser('~'),'Desktop/plots')\n",
    "try: os.makedirs(res_path)\n",
    "except: pass\n",
    "ax = plot_comparative(files_loc, threshold=5, res_path=res_path, title_postfix='batch size 128', sort_data=True)"
   ]
  },
  {
   "cell_type": "code",
   "execution_count": null,
   "metadata": {
    "collapsed": false
   },
   "outputs": [],
   "source": [
    "#example of using pie plot of single file\n",
    "files_loc = CAFFE_ROOT+'/scripts/analysis/example_data/batch_scaling_knl_68th/atlas_128batch_knl_68th.out'\n",
    "res_path= os.path.join(os.path.expanduser('~'),'Desktop/plots')\n",
    "try: os.makedirs(res_path)\n",
    "except: pass\n",
    "ax = plot_pie(files_loc, threshold=5.0, res_path=res_path, title_postfix='batch size 128', sort_data=True)\n"
   ]
  },
  {
   "cell_type": "code",
   "execution_count": null,
   "metadata": {
    "collapsed": true
   },
   "outputs": [],
   "source": []
  }
 ],
 "metadata": {
  "kernelspec": {
   "display_name": "Python 2",
   "language": "python",
   "name": "python2"
  },
  "language_info": {
   "codemirror_mode": {
    "name": "ipython",
    "version": 2
   },
   "file_extension": ".py",
   "mimetype": "text/x-python",
   "name": "python",
   "nbconvert_exporter": "python",
   "pygments_lexer": "ipython2",
   "version": "2.7.11"
  }
 },
 "nbformat": 4,
 "nbformat_minor": 0
}
