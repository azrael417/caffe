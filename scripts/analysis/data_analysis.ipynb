{
 "cells": [
  {
   "cell_type": "code",
   "execution_count": null,
   "metadata": {
    "collapsed": true
   },
   "outputs": [],
   "source": [
    "%matplotlib inline"
   ]
  },
  {
   "cell_type": "code",
   "execution_count": null,
   "metadata": {
    "collapsed": false
   },
   "outputs": [],
   "source": [
    "CAFFE_ROOT='/Users/tmalas/caffe'\n",
    "%load $CAFFE_ROOT/scripts/analysis/analysis_utils.py"
   ]
  },
  {
   "cell_type": "code",
   "execution_count": null,
   "metadata": {
    "collapsed": false
   },
   "outputs": [],
   "source": [
    "# optimized results\n",
    "files_loc = '/Users/tmalas/Desktop/caffe/atlas_caffe_opt/*/*.out'\n",
    "%mkdir -p /Users/tmalas/Desktop/dnn_opt\n",
    "res_path='/Users/tmalas/Desktop/dnn_opt'\n",
    "plot_all(files_loc, res_path=res_path, threshold=1.)"
   ]
  },
  {
   "cell_type": "code",
   "execution_count": null,
   "metadata": {
    "collapsed": false
   },
   "outputs": [],
   "source": [
    "#example of using comparative analysis going from 1 to 16 HSW threads\n",
    "files_loc = '/Users/tmalas/Desktop/caffe/atlas_caffe_opt/thread_scaling_64batch_hsw/atlas_64batch_hsw_th1*.out'\n",
    "%mkdir -p /Users/tmalas/Desktop/dnn_opt\n",
    "res_path='/Users/tmalas/Desktop/dnn_opt'\n",
    "ax = plot_comparative(files_loc, threshold=4.0, res_path=res_path)\n"
   ]
  },
  {
   "cell_type": "code",
   "execution_count": null,
   "metadata": {
    "collapsed": true
   },
   "outputs": [],
   "source": []
  }
 ],
 "metadata": {
  "kernelspec": {
   "display_name": "Python 2",
   "language": "python",
   "name": "python2"
  },
  "language_info": {
   "codemirror_mode": {
    "name": "ipython",
    "version": 2
   },
   "file_extension": ".py",
   "mimetype": "text/x-python",
   "name": "python",
   "nbconvert_exporter": "python",
   "pygments_lexer": "ipython2",
   "version": "2.7.11"
  }
 },
 "nbformat": 4,
 "nbformat_minor": 0
}
